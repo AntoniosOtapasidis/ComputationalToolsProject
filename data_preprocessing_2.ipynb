{
 "cells": [
  {
   "cell_type": "code",
   "execution_count": 7,
   "id": "afa63197",
   "metadata": {},
   "outputs": [],
   "source": [
    "import pandas as pd\n",
    "import re\n",
    "import nltk\n",
    "from nltk.corpus import stopwords, wordnet\n",
    "from nltk.stem import WordNetLemmatizer\n",
    "import matplotlib.pyplot as plt\n",
    "from nltk import pos_tag, word_tokenize\n",
    "from wordcloud import WordCloud\n",
    "import zipfile\n",
    "import matplotlib.pyplot as plt"
   ]
  },
  {
   "cell_type": "code",
   "execution_count": 2,
   "id": "fca33632",
   "metadata": {},
   "outputs": [
    {
     "name": "stderr",
     "output_type": "stream",
     "text": [
      "[nltk_data] Downloading package stopwords to /home/kostas/nltk_data...\n",
      "[nltk_data]   Package stopwords is already up-to-date!\n",
      "[nltk_data] Downloading package wordnet to /home/kostas/nltk_data...\n",
      "[nltk_data]   Package wordnet is already up-to-date!\n",
      "[nltk_data] Downloading package omw-1.4 to /home/kostas/nltk_data...\n",
      "[nltk_data]   Package omw-1.4 is already up-to-date!\n",
      "[nltk_data] Downloading package averaged_perceptron_tagger to\n",
      "[nltk_data]     /home/kostas/nltk_data...\n",
      "[nltk_data]   Package averaged_perceptron_tagger is already up-to-\n",
      "[nltk_data]       date!\n",
      "[nltk_data] Downloading package punkt to /home/kostas/nltk_data...\n",
      "[nltk_data]   Package punkt is already up-to-date!\n"
     ]
    },
    {
     "data": {
      "text/plain": [
       "True"
      ]
     },
     "execution_count": 2,
     "metadata": {},
     "output_type": "execute_result"
    }
   ],
   "source": [
    "# Download NLTK resources if not already downloaded\n",
    "nltk.download('stopwords')\n",
    "nltk.download('wordnet')\n",
    "nltk.download('omw-1.4')  # Download for better lemmatization support\n",
    "nltk.download('averaged_perceptron_tagger')\n",
    "nltk.download('punkt')"
   ]
  },
  {
   "cell_type": "markdown",
   "id": "2faedd70",
   "metadata": {},
   "source": [
    "### IMPORTANT NOTE HERE\n",
    "After we performed text lemmatization on Computerome, we get an output file named \"final_cleaned_dataset.tsv\". This file needs to be manually moved in the folder where all the scripts live. This file will need to be merged back with \"waiting_for_merge.tsv.gz\" to get the information from the columns that weren't part of the file uploaded to Computerome."
   ]
  },
  {
   "cell_type": "code",
   "execution_count": null,
   "id": "474764b9",
   "metadata": {},
   "outputs": [],
   "source": [
    "# Specify file names\n",
    "computerome_output_file = \"final_cleaned_dataset.tsv\"\n",
    "waiting_dataset_file = \"waiting_for_merge.tsv.gz\"\n",
    "\n",
    "# Read the files\n",
    "computerome_output = pd.read_csv(computerome_output_file, sep=\"\\t\", header=None)\n",
    "waiting_dataset = pd.read_csv(waiting_dataset_file, sep=\"\\t\", compression=\"gzip\")\n",
    "\n",
    "# Add the headers to the computerome output\n",
    "computerome_output.columns = ['body', 'unique_id', 'cleaned_body']\n",
    "\n",
    "# Merge back to the original dataframe\n",
    "depression = waiting_dataset.merge(computerome_output[['unique_id', 'cleaned_body']], on='unique_id', how='left')\n",
    "depression\n",
    "depression.to_csv(\"merged.tsv.gz\", sep='\\t', index=False, compression='gzip', header=True)"
   ]
  },
  {
   "cell_type": "code",
   "execution_count": 4,
   "id": "a46c717b",
   "metadata": {},
   "outputs": [
    {
     "name": "stderr",
     "output_type": "stream",
     "text": [
      "/tmp/ipykernel_7168/3426556005.py:2: DtypeWarning: Columns (0) have mixed types. Specify dtype option on import or set low_memory=False.\n",
      "  depression = pd.read_csv(merged_file, sep='\\t')\n"
     ]
    },
    {
     "data": {
      "text/html": [
       "<div>\n",
       "<style scoped>\n",
       "    .dataframe tbody tr th:only-of-type {\n",
       "        vertical-align: middle;\n",
       "    }\n",
       "\n",
       "    .dataframe tbody tr th {\n",
       "        vertical-align: top;\n",
       "    }\n",
       "\n",
       "    .dataframe thead th {\n",
       "        text-align: right;\n",
       "    }\n",
       "</style>\n",
       "<table border=\"1\" class=\"dataframe\">\n",
       "  <thead>\n",
       "    <tr style=\"text-align: right;\">\n",
       "      <th></th>\n",
       "      <th>Unnamed: 0</th>\n",
       "      <th>subreddit</th>\n",
       "      <th>title</th>\n",
       "      <th>body</th>\n",
       "      <th>upvotes</th>\n",
       "      <th>num_comments</th>\n",
       "      <th>label</th>\n",
       "      <th>created_datetime</th>\n",
       "      <th>unique_id</th>\n",
       "      <th>cleaned_body</th>\n",
       "    </tr>\n",
       "  </thead>\n",
       "  <tbody>\n",
       "    <tr>\n",
       "      <th>0</th>\n",
       "      <td>47951</td>\n",
       "      <td>DeepThoughts</td>\n",
       "      <td>Deep thoughts underdog</td>\n",
       "      <td>Only when we start considering ourselves, the ...</td>\n",
       "      <td>4.0</td>\n",
       "      <td>0</td>\n",
       "      <td>0.0</td>\n",
       "      <td>2014-07-14 03:35:09</td>\n",
       "      <td>0</td>\n",
       "      <td>start consider 99 underdog begin value start root</td>\n",
       "    </tr>\n",
       "    <tr>\n",
       "      <th>1</th>\n",
       "      <td>47952</td>\n",
       "      <td>DeepThoughts</td>\n",
       "      <td>I like this sub, there's only two posts yet I ...</td>\n",
       "      <td>Anyway: Human Morality is a joke so long as th...</td>\n",
       "      <td>4.0</td>\n",
       "      <td>1</td>\n",
       "      <td>0.0</td>\n",
       "      <td>2014-09-13 00:31:19</td>\n",
       "      <td>1</td>\n",
       "      <td>anyway human morality joke long abscence hope ...</td>\n",
       "    </tr>\n",
       "    <tr>\n",
       "      <th>2</th>\n",
       "      <td>47957</td>\n",
       "      <td>DeepThoughts</td>\n",
       "      <td>Rebirth!</td>\n",
       "      <td>Hello. I am the new guy in charge here (Beside...</td>\n",
       "      <td>6.0</td>\n",
       "      <td>1</td>\n",
       "      <td>0.0</td>\n",
       "      <td>2014-11-20 04:31:58</td>\n",
       "      <td>2</td>\n",
       "      <td>hello new guy charge besides thegood ofc bring...</td>\n",
       "    </tr>\n",
       "    <tr>\n",
       "      <th>3</th>\n",
       "      <td>47960</td>\n",
       "      <td>DeepThoughts</td>\n",
       "      <td>Who am I?</td>\n",
       "      <td>You could take any one cell in my body and kil...</td>\n",
       "      <td>5.0</td>\n",
       "      <td>4</td>\n",
       "      <td>0.0</td>\n",
       "      <td>2014-11-20 20:36:52</td>\n",
       "      <td>3</td>\n",
       "      <td>could take one cell body kill would still yet ...</td>\n",
       "    </tr>\n",
       "    <tr>\n",
       "      <th>4</th>\n",
       "      <td>47969</td>\n",
       "      <td>DeepThoughts</td>\n",
       "      <td>What is the limit of the knowledge and power a...</td>\n",
       "      <td>Personally, I think it's infinite. We will alw...</td>\n",
       "      <td>8.0</td>\n",
       "      <td>23</td>\n",
       "      <td>0.0</td>\n",
       "      <td>2014-11-22 19:17:39</td>\n",
       "      <td>4</td>\n",
       "      <td>personally think infinite always grow</td>\n",
       "    </tr>\n",
       "  </tbody>\n",
       "</table>\n",
       "</div>"
      ],
      "text/plain": [
       "  Unnamed: 0     subreddit                                              title  \\\n",
       "0      47951  DeepThoughts                             Deep thoughts underdog   \n",
       "1      47952  DeepThoughts  I like this sub, there's only two posts yet I ...   \n",
       "2      47957  DeepThoughts                                           Rebirth!   \n",
       "3      47960  DeepThoughts                                          Who am I?   \n",
       "4      47969  DeepThoughts  What is the limit of the knowledge and power a...   \n",
       "\n",
       "                                                body  upvotes  num_comments  \\\n",
       "0  Only when we start considering ourselves, the ...      4.0             0   \n",
       "1  Anyway: Human Morality is a joke so long as th...      4.0             1   \n",
       "2  Hello. I am the new guy in charge here (Beside...      6.0             1   \n",
       "3  You could take any one cell in my body and kil...      5.0             4   \n",
       "4  Personally, I think it's infinite. We will alw...      8.0            23   \n",
       "\n",
       "   label     created_datetime  unique_id  \\\n",
       "0    0.0  2014-07-14 03:35:09          0   \n",
       "1    0.0  2014-09-13 00:31:19          1   \n",
       "2    0.0  2014-11-20 04:31:58          2   \n",
       "3    0.0  2014-11-20 20:36:52          3   \n",
       "4    0.0  2014-11-22 19:17:39          4   \n",
       "\n",
       "                                        cleaned_body  \n",
       "0  start consider 99 underdog begin value start root  \n",
       "1  anyway human morality joke long abscence hope ...  \n",
       "2  hello new guy charge besides thegood ofc bring...  \n",
       "3  could take one cell body kill would still yet ...  \n",
       "4              personally think infinite always grow  "
      ]
     },
     "execution_count": 4,
     "metadata": {},
     "output_type": "execute_result"
    }
   ],
   "source": [
    "merged_file = \"merged.tsv\"\n",
    "depression = pd.read_csv(merged_file, sep='\\t')\n",
    "depression.head()"
   ]
  },
  {
   "cell_type": "markdown",
   "id": "d414edf2",
   "metadata": {},
   "source": [
    "Some last pre-processing before we can use our data set for further analysis and model generation and implementation"
   ]
  },
  {
   "cell_type": "code",
   "execution_count": 5,
   "id": "64358a39",
   "metadata": {},
   "outputs": [
    {
     "name": "stdout",
     "output_type": "stream",
     "text": [
      "Columns in the dataset: ['Unnamed: 0', 'subreddit', 'title', 'body', 'upvotes', 'num_comments', 'label', 'created_datetime', 'unique_id', 'cleaned_body']\n",
      "Total number of rows: 2000382\n",
      "Number of rows with NaN values in any column: 0\n",
      "Number of NaN values in each column:\n",
      "Unnamed: 0      0\n",
      "subreddit       0\n",
      "title           0\n",
      "body            0\n",
      "label           0\n",
      "unique_id       0\n",
      "cleaned_body    0\n",
      "dtype: int64\n"
     ]
    }
   ],
   "source": [
    "# Check how many rows have NaN values in any of the columns\n",
    "num_rows = len(depression)\n",
    "print(\"Columns in the dataset:\", depression.columns.tolist())\n",
    "\n",
    "# Drop NAs in body and title\n",
    "depression = depression.dropna(subset=['body'])\n",
    "depression = depression.dropna(subset=['title'])\n",
    "depression = depression.dropna(subset=['label'])\n",
    "\n",
    "# Drop columns that we will not use \n",
    "depression = depression.drop(columns=['upvotes', 'num_comments', 'created_datetime'])\n",
    "print(f\"Total number of rows: {num_rows}\")\n",
    "\n",
    "num_rows_with_na = depression.isna().any(axis=1).sum()\n",
    "print(f\"Number of rows with NaN values in any column: {num_rows_with_na}\")\n",
    "\n",
    "# Print the number of NaN values in each column\n",
    "na_counts = depression.isna().sum()\n",
    "print(\"Number of NaN values in each column:\")\n",
    "print(na_counts)\n",
    "\n",
    "# Define the list of actual subreddit names you want to keep\n",
    "valid_subreddits = [\n",
    "    'DeepThoughts', 'teenagers', 'SuicideWatch', 'depression', 'happy'\n",
    "    # Add any other subreddits you recognize as valid\n",
    "]\n",
    "\n",
    "# Filter the DataFrame to keep only rows with valid subreddit names\n",
    "filtered_depression = depression[depression['subreddit'].isin(valid_subreddits)]"
   ]
  },
  {
   "cell_type": "code",
   "execution_count": 13,
   "id": "e8ce1a03",
   "metadata": {},
   "outputs": [
    {
     "data": {
      "image/png": "[encoded data removed]",
      "text/plain": [
       "<Figure size 1000x600 with 1 Axes>"
      ]
     },
     "metadata": {},
     "output_type": "display_data"
    }
   ],
   "source": [
    "# Count the number of posts per subreddit\n",
    "subreddit_counts = filtered_depression['subreddit'].value_counts()\n",
    "\n",
    "# Plot the horizontal bar chart\n",
    "plt.figure(figsize=(10, 6))\n",
    "subreddit_counts.plot(kind='barh')\n",
    "plt.title('Number of Posts per Valid Subreddit')\n",
    "plt.xlabel('Number of Posts')\n",
    "plt.ylabel('Subreddit')\n",
    "plt.tight_layout()  # Adjust layout to fit everything nicely\n",
    "plt.savefig('valid_subreddits_horizontal_bar_plot.png')  # Optional: Save the plot\n",
    "plt.show()\n"
   ]
  },
  {
   "cell_type": "markdown",
   "id": "43d83faa",
   "metadata": {},
   "source": [
    "Write the final processed dataset"
   ]
  },
  {
   "cell_type": "code",
   "execution_count": null,
   "id": "94a81fe9",
   "metadata": {},
   "outputs": [],
   "source": [
    "filtered_depression.to_csv(\"use_this_one.tsv.gz\", sep='\\t', index=False, compression='gzip')"
   ]
  }
 ],
 "metadata": {
  "jupytext": {
   "cell_metadata_filter": "-all",
   "main_language": "python",
   "notebook_metadata_filter": "-all"
  },
  "kernelspec": {
   "display_name": "resmining",
   "language": "python",
   "name": "python3"
  },
  "language_info": {
   "codemirror_mode": {
    "name": "ipython",
    "version": 3
   },
   "file_extension": ".py",
   "mimetype": "text/x-python",
   "name": "python",
   "nbconvert_exporter": "python",
   "pygments_lexer": "ipython3",
   "version": "3.12.2"
  }
 },
 "nbformat": 4,
 "nbformat_minor": 5
}
